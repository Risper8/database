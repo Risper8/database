{
 "cells": [
  {
   "cell_type": "code",
   "execution_count": 34,
   "metadata": {},
   "outputs": [],
   "source": [
    "# import necessary libraries\n",
    "import pandas as pd\n",
    "import mysql.connector\n",
    "import numpy as np\n"
   ]
  },
  {
   "cell_type": "code",
   "execution_count": 35,
   "metadata": {},
   "outputs": [],
   "source": [
    "#MySQL database connection configuration\n",
    "db_config = {\n",
    "    'host': 'localhost',\n",
    "    'user': 'root',\n",
    "    'password':'s@dhikali2006'\n",
    "} "
   ]
  },
  {
   "cell_type": "code",
   "execution_count": 36,
   "metadata": {},
   "outputs": [],
   "source": [
    "#establish connection to mysql database\n",
    "conn = mysql.connector.connect(**db_config)"
   ]
  },
  {
   "cell_type": "code",
   "execution_count": 37,
   "metadata": {},
   "outputs": [],
   "source": [
    "#function to execute mysl queries\n",
    "def execute_query(query):\n",
    "    cursor = conn.cursor()\n",
    "    cursor.execute(query)\n",
    "    conn.commit()\n",
    "    cursor.close()"
   ]
  },
  {
   "cell_type": "code",
   "execution_count": 38,
   "metadata": {},
   "outputs": [],
   "source": [
    "# create database if not exists\n",
    "create_db_query = \"CREATE DATABASE IF NOT EXISTS etl_example;\"\n",
    "execute_query(create_db_query)"
   ]
  },
  {
   "cell_type": "code",
   "execution_count": 39,
   "metadata": {},
   "outputs": [],
   "source": [
    "#use the database\n",
    "use_db_query = \"USE etl_example;\"\n",
    "execute_query(use_db_query)"
   ]
  },
  {
   "cell_type": "code",
   "execution_count": 40,
   "metadata": {},
   "outputs": [],
   "source": [
    "# create raw_data table\n",
    "create_raw_data_table_query = \"\"\"\n",
    "CREATE TABLE IF NOT EXISTS raw_data (\n",
    "    id INT AUTO_INCREMENT PRIMARY KEY,\n",
    "    name VARCHAR(255),\n",
    "    age INT,\n",
    "    city VARCHAR(255)\n",
    ");\n",
    "\"\"\"\n",
    "execute_query(create_raw_data_table_query)\n"
   ]
  },
  {
   "cell_type": "code",
   "execution_count": 41,
   "metadata": {},
   "outputs": [],
   "source": [
    "# Generate sample data with null values and inconsistencies\n",
    "num_rows = 100\n",
    "names = ['John', 'Jane', 'Mike', 'Chris', None]  # including null values\n",
    "ages = np.random.randint(18, 60, size=num_rows).astype(float)  # convert to float to allow null values\n",
    "nan_indices = np.random.choice(range(num_rows), size=num_rows // 10, replace=False)  # select 10% indices for null values\n",
    "ages[nan_indices] = np.nan  # introduce some null values\n",
    "\n",
    "cities = ['New York', 'Los Angeles', 'Chicago', 'Houston', 'Phoenix', ''] \n",
    "cities = cities * (num_rows // len(cities) + 1)  # extend the list to match the num_rows\n",
    "np.random.shuffle(cities)  # shuffle to introduce inconsistencies\n",
    "cities = cities[:num_rows]  # trim to match num_rows\n",
    "\n"
   ]
  },
  {
   "cell_type": "code",
   "execution_count": 45,
   "metadata": {},
   "outputs": [],
   "source": [
    "#create a dataframe for the created sample data\n",
    "sample_df = pd.DataFrame({\n",
    "    'name': np.random.choice(names, size=num_rows),\n",
    "    'age': ages,\n",
    "    'city': cities\n",
    "})"
   ]
  },
  {
   "cell_type": "code",
   "execution_count": 49,
   "metadata": {},
   "outputs": [],
   "source": [
    "#load the dataframe into the database\n",
    "#insert sample data into the raw_data table\n",
    "for index, row in sample_df.iterrows():\n",
    "    name_value = f\"'{row['name']}'\" if row['name'] is not  None else 'NULL'\n",
    "    age_value = str(row['age']) if not np.isnan(row['age']) else 'NULL'\n",
    "    city_value = f\"'{row['city']}'\" if row['city'] != '' else 'NULL'\n",
    "\n",
    "    insert_query = f\"\"\"\n",
    "    INSERT INTO raw_data (name, age, city)\n",
    "    VALUES ({name_value}, {age_value}, {city_value}) \n",
    "    \"\"\"\n",
    "\n",
    "    execute_query(insert_query)\n"
   ]
  },
  {
   "cell_type": "code",
   "execution_count": 50,
   "metadata": {},
   "outputs": [
    {
     "name": "stderr",
     "output_type": "stream",
     "text": [
      "C:\\Users\\user\\AppData\\Local\\Temp\\ipykernel_6460\\1300683070.py:3: UserWarning: pandas only supports SQLAlchemy connectable (engine/connection) or database string URI or sqlite3 DBAPI2 connection. Other DBAPI2 objects are not tested. Please consider using SQLAlchemy.\n",
      "  fetched_df = pd.read_sql_query(fetch_query, conn)\n"
     ]
    },
    {
     "data": {
      "text/html": [
       "<div>\n",
       "<style scoped>\n",
       "    .dataframe tbody tr th:only-of-type {\n",
       "        vertical-align: middle;\n",
       "    }\n",
       "\n",
       "    .dataframe tbody tr th {\n",
       "        vertical-align: top;\n",
       "    }\n",
       "\n",
       "    .dataframe thead th {\n",
       "        text-align: right;\n",
       "    }\n",
       "</style>\n",
       "<table border=\"1\" class=\"dataframe\">\n",
       "  <thead>\n",
       "    <tr style=\"text-align: right;\">\n",
       "      <th></th>\n",
       "      <th>id</th>\n",
       "      <th>name</th>\n",
       "      <th>age</th>\n",
       "      <th>city</th>\n",
       "    </tr>\n",
       "  </thead>\n",
       "  <tbody>\n",
       "    <tr>\n",
       "      <th>0</th>\n",
       "      <td>1</td>\n",
       "      <td>Mike</td>\n",
       "      <td>57.0</td>\n",
       "      <td>Chicago</td>\n",
       "    </tr>\n",
       "    <tr>\n",
       "      <th>1</th>\n",
       "      <td>2</td>\n",
       "      <td>None</td>\n",
       "      <td>51.0</td>\n",
       "      <td>Los Angeles</td>\n",
       "    </tr>\n",
       "    <tr>\n",
       "      <th>2</th>\n",
       "      <td>3</td>\n",
       "      <td>None</td>\n",
       "      <td>35.0</td>\n",
       "      <td>None</td>\n",
       "    </tr>\n",
       "    <tr>\n",
       "      <th>3</th>\n",
       "      <td>4</td>\n",
       "      <td>Jane</td>\n",
       "      <td>28.0</td>\n",
       "      <td>Houston</td>\n",
       "    </tr>\n",
       "    <tr>\n",
       "      <th>4</th>\n",
       "      <td>5</td>\n",
       "      <td>Mike</td>\n",
       "      <td>57.0</td>\n",
       "      <td>Phoenix</td>\n",
       "    </tr>\n",
       "  </tbody>\n",
       "</table>\n",
       "</div>"
      ],
      "text/plain": [
       "   id  name   age         city\n",
       "0   1  Mike  57.0      Chicago\n",
       "1   2  None  51.0  Los Angeles\n",
       "2   3  None  35.0         None\n",
       "3   4  Jane  28.0      Houston\n",
       "4   5  Mike  57.0      Phoenix"
      ]
     },
     "execution_count": 50,
     "metadata": {},
     "output_type": "execute_result"
    }
   ],
   "source": [
    "#fetch the data from the raw_data table and display\n",
    "fetch_query = \"SELECT * FROM raw_data\"\n",
    "fetched_df = pd.read_sql_query(fetch_query, conn)\n",
    "\n",
    "fetched_df.head()\n"
   ]
  },
  {
   "cell_type": "code",
   "execution_count": 67,
   "metadata": {},
   "outputs": [
    {
     "data": {
      "text/html": [
       "<div>\n",
       "<style scoped>\n",
       "    .dataframe tbody tr th:only-of-type {\n",
       "        vertical-align: middle;\n",
       "    }\n",
       "\n",
       "    .dataframe tbody tr th {\n",
       "        vertical-align: top;\n",
       "    }\n",
       "\n",
       "    .dataframe thead th {\n",
       "        text-align: right;\n",
       "    }\n",
       "</style>\n",
       "<table border=\"1\" class=\"dataframe\">\n",
       "  <thead>\n",
       "    <tr style=\"text-align: right;\">\n",
       "      <th></th>\n",
       "      <th>id</th>\n",
       "      <th>name</th>\n",
       "      <th>age</th>\n",
       "      <th>city</th>\n",
       "    </tr>\n",
       "  </thead>\n",
       "  <tbody>\n",
       "    <tr>\n",
       "      <th>0</th>\n",
       "      <td>1</td>\n",
       "      <td>MIKE</td>\n",
       "      <td>57</td>\n",
       "      <td>Chicago</td>\n",
       "    </tr>\n",
       "    <tr>\n",
       "      <th>3</th>\n",
       "      <td>4</td>\n",
       "      <td>JANE</td>\n",
       "      <td>28</td>\n",
       "      <td>Houston</td>\n",
       "    </tr>\n",
       "    <tr>\n",
       "      <th>4</th>\n",
       "      <td>5</td>\n",
       "      <td>MIKE</td>\n",
       "      <td>57</td>\n",
       "      <td>Phoenix</td>\n",
       "    </tr>\n",
       "    <tr>\n",
       "      <th>7</th>\n",
       "      <td>8</td>\n",
       "      <td>MIKE</td>\n",
       "      <td>22</td>\n",
       "      <td>Chicago</td>\n",
       "    </tr>\n",
       "    <tr>\n",
       "      <th>8</th>\n",
       "      <td>9</td>\n",
       "      <td>CHRIS</td>\n",
       "      <td>24</td>\n",
       "      <td>Chicago</td>\n",
       "    </tr>\n",
       "  </tbody>\n",
       "</table>\n",
       "</div>"
      ],
      "text/plain": [
       "   id   name  age     city\n",
       "0   1   MIKE   57  Chicago\n",
       "3   4   JANE   28  Houston\n",
       "4   5   MIKE   57  Phoenix\n",
       "7   8   MIKE   22  Chicago\n",
       "8   9  CHRIS   24  Chicago"
      ]
     },
     "execution_count": 67,
     "metadata": {},
     "output_type": "execute_result"
    }
   ],
   "source": [
    "## Transform the data\n",
    "\n",
    " # removing rows with missing values\n",
    "cleaned_df = fetched_df.dropna()\n",
    "\n",
    "# Remove rows with empty strings in 'city' column\n",
    "cleaned_df = cleaned_df[cleaned_fetched_df['city'] != '']\n",
    "                                        \n",
    "# Convert 'age' column to integer type\n",
    "cleaned_df['age'] = cleaned_df['age'].astype(int)\n",
    "\n",
    "# Apply transformations to 'name' column\n",
    "cleaned_df['name'] = cleaned_df['name'].str.upper()\n",
    "\n",
    "cleaned_df.head()"
   ]
  },
  {
   "cell_type": "code",
   "execution_count": 68,
   "metadata": {},
   "outputs": [],
   "source": [
    "# create another database for the cleaned data\n",
    "create_cleaned_table_query = \"\"\"\n",
    "CREATE TABLE IF NOT EXISTS cleaned_data (\n",
    "     id INT AUTO_INCREMENT PRIMARY KEY,\n",
    "     name VARCHAR(255),\n",
    "     age INT,\n",
    "     city VARCHAR(255)\n",
    ");\n",
    "\"\"\"\n",
    "execute_query(create_cleaned_table_query)\n"
   ]
  },
  {
   "cell_type": "code",
   "execution_count": 71,
   "metadata": {},
   "outputs": [],
   "source": [
    "#load the cleaned data to the new database\n",
    "#insert cleaned data into mysql table\n",
    "for index, row in cleaned_df.iterrows():\n",
    "    insert_query = f\"\"\"\n",
    "    INSERT INTO cleaned_data (name, age, city)\n",
    "    VALUES ('{row['name']}', {row['age']}, '{row['city']}' )\n",
    "    \"\"\"\n",
    "\n",
    "    execute_query(insert_query)"
   ]
  },
  {
   "cell_type": "code",
   "execution_count": 72,
   "metadata": {},
   "outputs": [
    {
     "name": "stdout",
     "output_type": "stream",
     "text": [
      "   id   name  age     city\n",
      "0   1   MIKE   57  Chicago\n",
      "1   2   JANE   28  Houston\n",
      "2   3   MIKE   57  Phoenix\n",
      "3   4   MIKE   22  Chicago\n",
      "4   5  CHRIS   24  Chicago\n"
     ]
    },
    {
     "name": "stderr",
     "output_type": "stream",
     "text": [
      "C:\\Users\\user\\AppData\\Local\\Temp\\ipykernel_6460\\1338218726.py:3: UserWarning: pandas only supports SQLAlchemy connectable (engine/connection) or database string URI or sqlite3 DBAPI2 connection. Other DBAPI2 objects are not tested. Please consider using SQLAlchemy.\n",
      "  cleaned_fetched = pd.read_sql_query(fetched_cleaned_query, conn)\n"
     ]
    }
   ],
   "source": [
    "# view the cleaned data from the database\n",
    "fetched_cleaned_query = \"SELECT * FROM cleaned_data\"\n",
    "cleaned_fetched = pd.read_sql_query(fetched_cleaned_query, conn)\n",
    "print(cleaned_fetched .head())"
   ]
  }
 ],
 "metadata": {
  "kernelspec": {
   "display_name": "Python 3",
   "language": "python",
   "name": "python3"
  },
  "language_info": {
   "codemirror_mode": {
    "name": "ipython",
    "version": 3
   },
   "file_extension": ".py",
   "mimetype": "text/x-python",
   "name": "python",
   "nbconvert_exporter": "python",
   "pygments_lexer": "ipython3",
   "version": "3.12.2"
  }
 },
 "nbformat": 4,
 "nbformat_minor": 2
}
