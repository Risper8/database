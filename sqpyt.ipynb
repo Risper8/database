{
 "cells": [
  {
   "cell_type": "code",
   "execution_count": 1,
   "metadata": {},
   "outputs": [],
   "source": [
    "import pandas as pd\n",
    "import mysql.connector\n",
    "from  mysql.connector import Error"
   ]
  },
  {
   "cell_type": "code",
   "execution_count": 4,
   "metadata": {},
   "outputs": [
    {
     "name": "stdout",
     "output_type": "stream",
     "text": [
      "MySQL Database connection successful\n"
     ]
    }
   ],
   "source": [
    "def create_server_connection(host_name, user_name,user_password):\n",
    "    connection = None\n",
    "    try:\n",
    "        connection = mysql.connector.connect(\n",
    "            host = host_name,\n",
    "            user = user_name,\n",
    "            passwd = user_password\n",
    "        )\n",
    "        print(\"MySQL Database connection successful\")\n",
    "        return connection\n",
    "    except Error as err:\n",
    "        print(f\"Error:'{err}'\")\n",
    "\n",
    "#put our MySQL Terminal Password\n",
    "\n",
    "pw = \"s@dhikali2006\"\n",
    "\n",
    "#database\n",
    "db = \"querying_databases\"\n",
    "connection = create_server_connection(\"localhost\", \"root\", pw)"
   ]
  },
  {
   "cell_type": "code",
   "execution_count": 5,
   "metadata": {},
   "outputs": [
    {
     "name": "stdout",
     "output_type": "stream",
     "text": [
      "MySQL Database connection successful\n",
      "Database created successful\n"
     ]
    }
   ],
   "source": [
    "def create_database(connection,query):\n",
    "    cursor = connection.cursor()\n",
    "    try:\n",
    "        cursor.execute(query)\n",
    "        connection.commit() #commit database creation\n",
    "        print(\"Database created successful\")\n",
    "    except mysql.connector.Error as err:\n",
    "        print(f\"Error:'{err}'\")\n",
    "    finally:\n",
    "        cursor.close()\n",
    "\n",
    "#example usage\n",
    "connection = create_server_connection(\"localhost\", \"root\", pw)        \n",
    "create_database_query = \"CREATE DATABASE IF NOT EXISTS querying_databases\"\n",
    "create_database(connection, create_database_query)\n",
    "\n",
    "connection.close()"
   ]
  },
  {
   "cell_type": "code",
   "execution_count": 6,
   "metadata": {},
   "outputs": [],
   "source": [
    "def insert_data(connection, query, data):\n",
    "    cursor = connection.cursor()\n",
    "    try:\n",
    "        cursor.execute(query, data)\n",
    "        connection.commit()\n",
    "        print(\"Database created successfully\")\n",
    "    except Error as err:\n",
    "        print(f\"Error:'{err}'\")\n",
    "    \n",
    "#connect to the mysql server\n",
    "host = \"localhost\"\n",
    "user = \"root\"\n",
    "password= \"s@dhikali2006\"\n",
    "database =\"querying_databases\""
   ]
  }
 ],
 "metadata": {
  "kernelspec": {
   "display_name": "Python 3",
   "language": "python",
   "name": "python3"
  },
  "language_info": {
   "codemirror_mode": {
    "name": "ipython",
    "version": 3
   },
   "file_extension": ".py",
   "mimetype": "text/x-python",
   "name": "python",
   "nbconvert_exporter": "python",
   "pygments_lexer": "ipython3",
   "version": "3.12.2"
  }
 },
 "nbformat": 4,
 "nbformat_minor": 2
}
